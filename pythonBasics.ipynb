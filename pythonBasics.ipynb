{
 "cells": [
  {
   "cell_type": "markdown",
   "metadata": {},
   "source": [
    "### 1) Check the version of pandas and numpy installed using the following commands:\n",
    "import numpy; print (numpy.version.version) #numpy version\\\n",
    "\n",
    "import pandas as pd; print (pd.__version__) #numpy version"
   ]
  },
  {
   "cell_type": "code",
   "execution_count": 1,
   "metadata": {},
   "outputs": [
    {
     "name": "stdout",
     "output_type": "stream",
     "text": [
      "1.24.3\n"
     ]
    }
   ],
   "source": [
    "import numpy as np\n",
    "print(np.__version__)"
   ]
  },
  {
   "cell_type": "code",
   "execution_count": 2,
   "metadata": {},
   "outputs": [
    {
     "name": "stdout",
     "output_type": "stream",
     "text": [
      "2.0.3\n"
     ]
    }
   ],
   "source": [
    "import pandas as pd\n",
    "print(pd.__version__)"
   ]
  },
  {
   "cell_type": "markdown",
   "metadata": {},
   "source": [
    "### 2) Write a program to print 'Hello HCIA PDTP-Huawei Team'"
   ]
  },
  {
   "cell_type": "code",
   "execution_count": 3,
   "metadata": {},
   "outputs": [
    {
     "name": "stdout",
     "output_type": "stream",
     "text": [
      "Hello HCIA PDTP-Huawei Team\n"
     ]
    }
   ],
   "source": [
    "print(\"Hello HCIA PDTP-Huawei Team\")"
   ]
  },
  {
   "cell_type": "markdown",
   "metadata": {},
   "source": [
    "### 3) Write a program to define two variables, calculate their sum and display the results"
   ]
  },
  {
   "cell_type": "code",
   "execution_count": 4,
   "metadata": {},
   "outputs": [
    {
     "name": "stdout",
     "output_type": "stream",
     "text": [
      "17\n"
     ]
    }
   ],
   "source": [
    "a = 9\n",
    "b = 8\n",
    "print(a+b)"
   ]
  },
  {
   "cell_type": "markdown",
   "metadata": {},
   "source": [
    "### 4)\n",
    "a) Write a program to define a tuple that contains only one element.\n",
    "\n",
    "b) Write a program to define a tuple and then use the 'for loop' to print all the elements."
   ]
  },
  {
   "cell_type": "code",
   "execution_count": 5,
   "metadata": {},
   "outputs": [
    {
     "name": "stdout",
     "output_type": "stream",
     "text": [
      "<class 'tuple'>\n"
     ]
    }
   ],
   "source": [
    "mytuple = (\"apple\",)\n",
    "print(type(mytuple))"
   ]
  },
  {
   "cell_type": "code",
   "execution_count": 6,
   "metadata": {},
   "outputs": [
    {
     "name": "stdout",
     "output_type": "stream",
     "text": [
      "apple\n",
      "banana\n",
      "cherry\n",
      "orange\n"
     ]
    }
   ],
   "source": [
    "mytuple = (\"apple\", \"banana\", \"cherry\", \"orange\")\n",
    "for x in mytuple:\n",
    "    print(x)"
   ]
  },
  {
   "cell_type": "markdown",
   "metadata": {},
   "source": [
    "### 5) Write code to create a Python dictionary (the dict type) and print out the details. Add two entries to the dictionary: Associate the key ‘name’ with the value ‘Reagan’, and associate the key ‘phone’ with ‘+254 722 222333’"
   ]
  },
  {
   "cell_type": "code",
   "execution_count": 7,
   "metadata": {},
   "outputs": [
    {
     "name": "stdout",
     "output_type": "stream",
     "text": [
      "{'name': 'Reagan', 'phone': '+254712345678'}\n"
     ]
    }
   ],
   "source": [
    "mydict = {\n",
    "    \"name\": \"Reagan\",\n",
    "    \"phone\": \"+254712345678\"\n",
    "}\n",
    "print(mydict)"
   ]
  },
  {
   "cell_type": "markdown",
   "metadata": {},
   "source": [
    "### 6) a) Define a function to do Multiplication, such as Mul(8,6),and it output 42.\n",
    "\n",
    "b) Complete the function definition so it returns the square of the product of the parameters, so sqrProd(2, 5) returns (2*5)*(2*5) = 100.\n",
    "def sqrProd(x, y):"
   ]
  },
  {
   "cell_type": "code",
   "execution_count": 10,
   "metadata": {},
   "outputs": [
    {
     "name": "stdout",
     "output_type": "stream",
     "text": [
      "30\n"
     ]
    }
   ],
   "source": [
    "def application(a,b):\n",
    "    return a*b\n",
    "print(application(5,6))"
   ]
  },
  {
   "cell_type": "code",
   "execution_count": 12,
   "metadata": {},
   "outputs": [
    {
     "name": "stdout",
     "output_type": "stream",
     "text": [
      "100\n"
     ]
    }
   ],
   "source": [
    "def sqrProd(x,y):\n",
    "    return x*y * x*y\n",
    "print(sqrProd(2,5))"
   ]
  },
  {
   "cell_type": "markdown",
   "metadata": {},
   "source": [
    "### 7) Import numpy and then:\n",
    "a) Use numpy to define an array, the shape of it is (5,5) and all elements of it is 0.\n",
    "\n",
    "b) Create a 3x3 matrix with values ranging from 0 to 8\n",
    "\n",
    "c) Find indices of non-zero elements from [1,2,0,0,4,0]\n",
    "\n",
    "d) Create a 10x10 array with random values and find the minimum and maximum values\n",
    "\n",
    "e) Create a random vector of size 30 and find the mean value"
   ]
  },
  {
   "cell_type": "code",
   "execution_count": 20,
   "metadata": {},
   "outputs": [
    {
     "name": "stdout",
     "output_type": "stream",
     "text": [
      "(5, 5)\n",
      "[[0 0 0 0 0]\n",
      " [0 0 0 0 0]\n",
      " [0 0 0 0 0]\n",
      " [0 0 0 0 0]\n",
      " [0 0 0 0 0]]\n"
     ]
    }
   ],
   "source": [
    "import numpy as np\n",
    "myArray = np.array([[0,0,0,0,0], [0,0,0,0,0], [0,0,0,0,0], [0,0,0,0,0], [0,0,0,0,0]])\n",
    "print(np.array(myArray).shape)\n",
    "print(myArray)\n"
   ]
  },
  {
   "cell_type": "code",
   "execution_count": 25,
   "metadata": {},
   "outputs": [
    {
     "name": "stdout",
     "output_type": "stream",
     "text": [
      "[[0 1 2]\n",
      " [3 4 5]\n",
      " [6 7 8]]\n"
     ]
    }
   ],
   "source": [
    "import numpy as np\n",
    "matrix = np.arange(9).reshape(3,3)\n",
    "print(matrix)"
   ]
  },
  {
   "cell_type": "code",
   "execution_count": 27,
   "metadata": {},
   "outputs": [
    {
     "name": "stdout",
     "output_type": "stream",
     "text": [
      "(array([0, 1, 4], dtype=int64),)\n"
     ]
    }
   ],
   "source": [
    "import numpy as np\n",
    "\n",
    "array = np.array([1, 2, 0, 0, 4, 0])\n",
    "indices = np.nonzero(array)\n",
    "\n",
    "print(indices)"
   ]
  },
  {
   "cell_type": "code",
   "execution_count": 32,
   "metadata": {},
   "outputs": [
    {
     "name": "stdout",
     "output_type": "stream",
     "text": [
      "[[0.99674067 0.37529193 0.90407425 0.88014156 0.67597271 0.49647021\n",
      "  0.55537527 0.25948301 0.65136684 0.77784077]\n",
      " [0.99446164 0.4842941  0.96154632 0.11270231 0.40752695 0.8994528\n",
      "  0.59652466 0.72333797 0.53781906 0.27521589]\n",
      " [0.80864808 0.20981306 0.99158881 0.20732492 0.0994449  0.44633276\n",
      "  0.66340073 0.17863265 0.81697962 0.30644068]\n",
      " [0.63554083 0.85827994 0.31966071 0.85461124 0.43145173 0.52371608\n",
      "  0.31016182 0.55766969 0.89473933 0.13465459]\n",
      " [0.10721975 0.14935828 0.64395974 0.24706052 0.1316062  0.27086367\n",
      "  0.47750296 0.65480014 0.92537397 0.03969494]\n",
      " [0.02208194 0.27518537 0.72251859 0.07032032 0.06555023 0.24480965\n",
      "  0.48709389 0.19889159 0.94961579 0.63548976]\n",
      " [0.75835441 0.49320101 0.43769423 0.84318475 0.48571895 0.34724655\n",
      "  0.54616522 0.49371574 0.52349038 0.08777669]\n",
      " [0.29830488 0.54333091 0.30911651 0.44457557 0.45438198 0.3848512\n",
      "  0.60617203 0.35925183 0.09644006 0.1052921 ]\n",
      " [0.5261741  0.44294172 0.81039832 0.30179801 0.44750705 0.06445552\n",
      "  0.76151322 0.45227985 0.0064204  0.28874449]\n",
      " [0.98243275 0.49589416 0.93991511 0.28863643 0.70261073 0.61543216\n",
      "  0.71381853 0.38042845 0.3202309  0.42514232]]\n",
      "Minimum value: 0.006420397041524417\n",
      "Maximum value: 0.9967406713301559\n"
     ]
    }
   ],
   "source": [
    "import numpy as np\n",
    "\n",
    "array = np.random.rand(10,10)\n",
    "print(array)\n",
    "\n",
    "\n",
    "minimum_value = np.min(array)\n",
    "maximum_value = np.max(array)\n",
    "\n",
    "print(\"Minimum value:\", minimum_value)\n",
    "print(\"Maximum value:\", maximum_value)"
   ]
  },
  {
   "cell_type": "code",
   "execution_count": 29,
   "metadata": {},
   "outputs": [
    {
     "name": "stdout",
     "output_type": "stream",
     "text": [
      "Random Vector: [0.70802088 0.97689473 0.84301277 0.68654887 0.75686886 0.93511292\n",
      " 0.06280791 0.8849791  0.31312331 0.04229269 0.11316541 0.41837826\n",
      " 0.14536469 0.82875869 0.64966742 0.91705564 0.30999533 0.6769905\n",
      " 0.19152169 0.42794259 0.04135355 0.93351901 0.89817278 0.36195256\n",
      " 0.82600907 0.35969122 0.84626895 0.3408726  0.50618291 0.23460516]\n",
      "Mean Value: 0.5412376689743004\n"
     ]
    }
   ],
   "source": [
    "import numpy as np\n",
    "\n",
    "random_vector = np.random.rand(30)\n",
    "mean_value = np.mean(random_vector)\n",
    "\n",
    "print(\"Random Vector:\", random_vector)\n",
    "print(\"Mean Value:\", mean_value)"
   ]
  },
  {
   "cell_type": "markdown",
   "metadata": {},
   "source": [
    "### 8) Write a Python program that prompts the user for two numbers, reads them in, and prints out the product, labeled appropriately."
   ]
  },
  {
   "cell_type": "code",
   "execution_count": 35,
   "metadata": {},
   "outputs": [
    {
     "name": "stdout",
     "output_type": "stream",
     "text": [
      "42\n"
     ]
    }
   ],
   "source": [
    "import numpy as np\n",
    "product = np.prod([int(input(\"Enter a number: \")), int(input(\"Enter another number: \"))])\n",
    "print(product)\n"
   ]
  },
  {
   "cell_type": "markdown",
   "metadata": {},
   "source": [
    "### 9) Complete the code for the following function so it matches its documentation:\n",
    "def doubleList(numberList):\n",
    "\n",
    "For each of the numbers in the list numberList, print a line containing twice the original\n",
    "number. For example, doubleList ([3, 1, 5]) would print 6, 2, 10"
   ]
  },
  {
   "cell_type": "code",
   "execution_count": 39,
   "metadata": {},
   "outputs": [
    {
     "name": "stdout",
     "output_type": "stream",
     "text": [
      "6\n",
      "2\n",
      "10\n"
     ]
    }
   ],
   "source": [
    "def doubleList(numberList):\n",
    "    for number in numberList:\n",
    "        print(number * 2)\n",
    "doubleList([3, 1, 5])"
   ]
  }
 ],
 "metadata": {
  "kernelspec": {
   "display_name": "base",
   "language": "python",
   "name": "python3"
  },
  "language_info": {
   "codemirror_mode": {
    "name": "ipython",
    "version": 3
   },
   "file_extension": ".py",
   "mimetype": "text/x-python",
   "name": "python",
   "nbconvert_exporter": "python",
   "pygments_lexer": "ipython3",
   "version": "3.11.5"
  }
 },
 "nbformat": 4,
 "nbformat_minor": 2
}
