{
 "cells": [
  {
   "cell_type": "markdown",
   "metadata": {},
   "source": [
    "### MNIST Handwritten Character Recognition"
   ]
  },
  {
   "cell_type": "markdown",
   "metadata": {},
   "source": [
    "#### Step 1 Import the Python library and module and configure running information."
   ]
  },
  {
   "cell_type": "code",
   "execution_count": 1,
   "metadata": {},
   "outputs": [],
   "source": [
    "# Import related dependent libraries.\n",
    "import os\n",
    "from matplotlib import pyplot as plt\n",
    "import numpy as np\n",
    "import mindspore as ms\n",
    "import mindspore.context as context\n",
    "import mindspore.dataset as ds\n",
    "import mindspore.dataset.transforms.c_transforms as C\n",
    "import mindspore.dataset.vision.c_transforms as CV\n",
    "from mindspore.nn.metrics import Accuracy\n",
    "from mindspore import nn\n",
    "from mindspore.train import Model\n",
    "from mindspore.train.callback import ModelCheckpoint, CheckpointConfig, LossMonitor, TimeMonitor\n",
    "context.set_context(mode=context.GRAPH_MODE, device_target='CPU')"
   ]
  },
  {
   "cell_type": "markdown",
   "metadata": {},
   "source": [
    "#### Step 2 Read data."
   ]
  },
  {
   "cell_type": "code",
   "execution_count": 2,
   "metadata": {},
   "outputs": [
    {
     "name": "stdout",
     "output_type": "stream",
     "text": [
      "Data volume of the training dataset: 60000\n",
      "Data volume of the test dataset: 10000\n",
      "Image length/width/channels: (28, 28, 1)\n",
      "Image label style: 6\n"
     ]
    }
   ],
   "source": [
    "DATA_DIR_TRAIN = \"MNIST/train\" # Training set information\n",
    "DATA_DIR_TEST = \"MNIST/test\" # Test set information\n",
    "# Read data.\n",
    "ds_train = ds.MnistDataset(DATA_DIR_TRAIN)\n",
    "ds_test = ds.MnistDataset(DATA_DIR_TEST )\n",
    "# Display the dataset features.\n",
    "print('Data volume of the training dataset:',ds_train.get_dataset_size())\n",
    "print('Data volume of the test dataset:',ds_test.get_dataset_size())\n",
    "image=ds_train.create_dict_iterator().__next__()\n",
    "print('Image length/width/channels:',image['image'].shape)\n",
    "print('Image label style:',image['label']) # Total 10 label classes which are represented by numbers from 0 to 9."
   ]
  },
  {
   "cell_type": "markdown",
   "metadata": {},
   "source": [
    "#### Step 3 Process data."
   ]
  },
  {
   "cell_type": "code",
   "execution_count": 6,
   "metadata": {},
   "outputs": [],
   "source": [
    "from ctypes import resize\n",
    "from scipy.fftpack import shift\n",
    "\n",
    "\n",
    "def create_dataset(training=True, batch_size=128, resize=(28, 28),\n",
    "rescale=1/255, shift=0, buffer_size=64):\n",
    "    ds = ms.dataset.MnistDataset(DATA_DIR_TRAIN if training else DATA_DIR_TEST)\n",
    "    # Define the resizing, normalization, and channel conversion of the map operation.\n",
    "    resize_op = CV.Resize(resize)\n",
    "    rescale_op = CV.Rescale(rescale,shift)\n",
    "    hwc2chw_op = CV.HWC2CHW()\n",
    "    # Perform the map operation on the dataset.\n",
    "    ds = ds.map(input_columns=\"image\", operations=[rescale_op,resize_op, hwc2chw_op])\n",
    "    ds = ds.map(input_columns=\"label\", operations=C.TypeCast(ms.int32))\n",
    "    # Set the shuffle parameter and batch size.\n",
    "    ds = ds.shuffle(buffer_size=buffer_size)\n",
    "    ds = ds.batch(batch_size, drop_remainder=True)\n",
    "    return ds"
   ]
  },
  {
   "cell_type": "markdown",
   "metadata": {},
   "source": [
    "#### Step 4 Sample visualization"
   ]
  },
  {
   "cell_type": "code",
   "execution_count": 7,
   "metadata": {},
   "outputs": [
    {
     "name": "stderr",
     "output_type": "stream",
     "text": [
      "[WARNING] ME(2344:884,MainProcess):2024-01-15-16:38:11.337.725 [mindspore\\dataset\\core\\validator_helpers.py:744] 'Resize' from mindspore.dataset.vision.c_transforms is deprecated from version 1.8 and will be removed in a future version. Use 'Resize' from mindspore.dataset.vision instead.\n",
      "[WARNING] ME(2344:884,MainProcess):2024-01-15-16:38:11.341.916 [mindspore\\dataset\\core\\validator_helpers.py:744] 'Rescale' from mindspore.dataset.vision.c_transforms is deprecated from version 1.8 and will be removed in a future version. Use 'Rescale' from mindspore.dataset.vision instead.\n",
      "[WARNING] ME(2344:884,MainProcess):2024-01-15-16:38:11.343.531 [mindspore\\dataset\\core\\validator_helpers.py:744] 'HWC2CHW' from mindspore.dataset.vision.c_transforms is deprecated from version 1.8 and will be removed in a future version. Use 'HWC2CHW' from mindspore.dataset.vision instead.\n",
      "[WARNING] ME(2344:884,MainProcess):2024-01-15-16:38:11.345.538 [mindspore\\dataset\\core\\validator_helpers.py:744] 'TypeCast' from mindspore.dataset.transforms.c_transforms is deprecated from version 1.8 and will be removed in a future version. Use 'TypeCast' from mindspore.dataset.transforms instead.\n"
     ]
    },
    {
     "data": {
      "image/png": "[encoded data removed]",
      "text/plain": [
       "<Figure size 1500x500 with 10 Axes>"
      ]
     },
     "metadata": {},
     "output_type": "display_data"
    }
   ],
   "source": [
    "# Display the first 10 images and the labels, and check whether the images are correctly labeled.\n",
    "ds = create_dataset(training=False)\n",
    "data = ds.create_dict_iterator().__next__()\n",
    "images = data['image'].asnumpy()\n",
    "labels = data['label'].asnumpy()\n",
    "plt.figure(figsize=(15,5))\n",
    "for i in range(1,11):\n",
    "    plt.subplot(2, 5, i)\n",
    "    plt.imshow(np.squeeze(images[i]))\n",
    "    plt.title('Number: %s' % labels[i])\n",
    "    plt.xticks([])\n",
    "plt.show()"
   ]
  },
  {
   "cell_type": "markdown",
   "metadata": {},
   "source": [
    "#### Step 5 Define a network."
   ]
  },
  {
   "cell_type": "code",
   "execution_count": 9,
   "metadata": {},
   "outputs": [],
   "source": [
    "# Define the classification function.\n",
    "def classification(num_classes):\n",
    "    # Code for classification function goes here\n",
    "    pass\n",
    "# Create a model. The model consists of three fully connected layers. The final output layer uses softmax for\n",
    "classification(10)\n",
    "class ForwardNN(nn.Cell):\n",
    "    def __init__(self):\n",
    "        super(ForwardNN, self).__init__()\n",
    "        self.flatten = nn.Flatten()\n",
    "        self.fc1 = nn.Dense(784, 512, activation='relu')\n",
    "        self.fc2 = nn.Dense(512, 128, activation='relu')\n",
    "        self.fc3 = nn.Dense(128, 10, activation=None)\n",
    "\n",
    "    def construct(self, input_x):\n",
    "        output = self.flatten(input_x)\n",
    "        output = self.fc1(output)\n",
    "        output = self.fc2(output)\n",
    "        output = self.fc3(output)\n",
    "        return output"
   ]
  },
  {
   "cell_type": "markdown",
   "metadata": {},
   "source": [
    "#### Step 6 Define a loss function and an optimizer."
   ]
  },
  {
   "cell_type": "code",
   "execution_count": 10,
   "metadata": {},
   "outputs": [],
   "source": [
    "# Create a network, loss function, validation metric, and optimizer, and set related hyperparameters.\n",
    "lr = 0.001\n",
    "num_epoch = 10\n",
    "momentum = 0.9\n",
    "net = ForwardNN()\n",
    "loss = nn.loss.SoftmaxCrossEntropyWithLogits(sparse=True, reduction='mean')\n",
    "metrics={\"Accuracy\": Accuracy()}\n",
    "opt = nn.Adam(net.trainable_params(), lr)"
   ]
  },
  {
   "cell_type": "markdown",
   "metadata": {},
   "source": [
    "#### Step 7 Start training."
   ]
  },
  {
   "cell_type": "code",
   "execution_count": 11,
   "metadata": {},
   "outputs": [
    {
     "name": "stderr",
     "output_type": "stream",
     "text": [
      "[WARNING] ME(2344:884,MainProcess):2024-01-15-17:14:42.862.229 [mindspore\\dataset\\core\\validator_helpers.py:744] 'Resize' from mindspore.dataset.vision.c_transforms is deprecated from version 1.8 and will be removed in a future version. Use 'Resize' from mindspore.dataset.vision instead.\n",
      "[WARNING] ME(2344:884,MainProcess):2024-01-15-17:14:42.867.564 [mindspore\\dataset\\core\\validator_helpers.py:744] 'Rescale' from mindspore.dataset.vision.c_transforms is deprecated from version 1.8 and will be removed in a future version. Use 'Rescale' from mindspore.dataset.vision instead.\n",
      "[WARNING] ME(2344:884,MainProcess):2024-01-15-17:14:42.868.570 [mindspore\\dataset\\core\\validator_helpers.py:744] 'HWC2CHW' from mindspore.dataset.vision.c_transforms is deprecated from version 1.8 and will be removed in a future version. Use 'HWC2CHW' from mindspore.dataset.vision instead.\n",
      "[WARNING] ME(2344:884,MainProcess):2024-01-15-17:14:42.870.580 [mindspore\\dataset\\core\\validator_helpers.py:744] 'TypeCast' from mindspore.dataset.transforms.c_transforms is deprecated from version 1.8 and will be removed in a future version. Use 'TypeCast' from mindspore.dataset.transforms instead.\n",
      "[WARNING] ME(2344:884,MainProcess):2024-01-15-17:14:42.876.113 [mindspore\\dataset\\core\\validator_helpers.py:744] 'Resize' from mindspore.dataset.vision.c_transforms is deprecated from version 1.8 and will be removed in a future version. Use 'Resize' from mindspore.dataset.vision instead.\n",
      "[WARNING] ME(2344:884,MainProcess):2024-01-15-17:14:42.878.176 [mindspore\\dataset\\core\\validator_helpers.py:744] 'Rescale' from mindspore.dataset.vision.c_transforms is deprecated from version 1.8 and will be removed in a future version. Use 'Rescale' from mindspore.dataset.vision instead.\n",
      "[WARNING] ME(2344:884,MainProcess):2024-01-15-17:14:42.879.099 [mindspore\\dataset\\core\\validator_helpers.py:744] 'HWC2CHW' from mindspore.dataset.vision.c_transforms is deprecated from version 1.8 and will be removed in a future version. Use 'HWC2CHW' from mindspore.dataset.vision instead.\n",
      "[WARNING] ME(2344:884,MainProcess):2024-01-15-17:14:42.879.099 [mindspore\\dataset\\core\\validator_helpers.py:744] 'TypeCast' from mindspore.dataset.transforms.c_transforms is deprecated from version 1.8 and will be removed in a future version. Use 'TypeCast' from mindspore.dataset.transforms instead.\n"
     ]
    },
    {
     "name": "stdout",
     "output_type": "stream",
     "text": [
      "============== Starting Training ==============\n",
      "epoch: 1 step: 1875, loss is 0.16274598240852356\n",
      "Train epoch time: 8542.564 ms, per step time: 4.556 ms\n",
      "epoch: 2 step: 1875, loss is 0.04986417293548584\n",
      "Train epoch time: 7764.920 ms, per step time: 4.141 ms\n",
      "epoch: 3 step: 1875, loss is 0.009257474914193153\n",
      "Train epoch time: 10364.279 ms, per step time: 5.528 ms\n",
      "epoch: 4 step: 1875, loss is 0.003398367203772068\n",
      "Train epoch time: 13827.236 ms, per step time: 7.375 ms\n",
      "epoch: 5 step: 1875, loss is 0.002715125447139144\n",
      "Train epoch time: 11993.773 ms, per step time: 6.397 ms\n",
      "epoch: 6 step: 1875, loss is 0.15773700177669525\n",
      "Train epoch time: 12129.379 ms, per step time: 6.469 ms\n",
      "epoch: 7 step: 1875, loss is 0.003771992865949869\n",
      "Train epoch time: 11438.093 ms, per step time: 6.100 ms\n",
      "epoch: 8 step: 1875, loss is 0.0007935979519970715\n",
      "Train epoch time: 12014.051 ms, per step time: 6.407 ms\n",
      "epoch: 9 step: 1875, loss is 0.00016438667080365121\n",
      "Train epoch time: 11927.219 ms, per step time: 6.361 ms\n",
      "epoch: 10 step: 1875, loss is 2.3075463104760274e-05\n",
      "Train epoch time: 11736.413 ms, per step time: 6.259 ms\n"
     ]
    }
   ],
   "source": [
    "# Build a model.\n",
    "model = Model(net, loss, opt, metrics)\n",
    "config_ck = CheckpointConfig(save_checkpoint_steps=1875, keep_checkpoint_max=10)\n",
    "ckpoint_cb = ModelCheckpoint(prefix=\"checkpoint_net\",directory = \"./ckpt\" ,config=config_ck)\n",
    "# Generate a dataset.\n",
    "ds_eval = create_dataset(False, batch_size=32)\n",
    "ds_train = create_dataset(batch_size=32)\n",
    "# Train the model.\n",
    "loss_cb = LossMonitor(per_print_times=1875)\n",
    "time_cb = TimeMonitor(data_size=ds_train.get_dataset_size())\n",
    "print(\"============== Starting Training ==============\")\n",
    "model.train(num_epoch, ds_train,callbacks=[ckpoint_cb,loss_cb,time_cb ],dataset_sink_mode=False)"
   ]
  },
  {
   "cell_type": "markdown",
   "metadata": {},
   "source": [
    "#### Step 8 Validate the model."
   ]
  },
  {
   "cell_type": "code",
   "execution_count": 12,
   "metadata": {},
   "outputs": [
    {
     "name": "stdout",
     "output_type": "stream",
     "text": [
      "{'Accuracy': 0.9811698717948718}\n"
     ]
    }
   ],
   "source": [
    "# Use the test set to validate the model and print the overall accuracy.\n",
    "metrics=model.eval(ds_eval)\n",
    "print(metrics)"
   ]
  }
 ],
 "metadata": {
  "kernelspec": {
   "display_name": "Python 3",
   "language": "python",
   "name": "python3"
  },
  "language_info": {
   "codemirror_mode": {
    "name": "ipython",
    "version": 3
   },
   "file_extension": ".py",
   "mimetype": "text/x-python",
   "name": "python",
   "nbconvert_exporter": "python",
   "pygments_lexer": "ipython3",
   "version": "3.9.13"
  }
 },
 "nbformat": 4,
 "nbformat_minor": 2
}
